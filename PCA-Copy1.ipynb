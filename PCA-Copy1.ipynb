{
 "cells": [
  {
   "cell_type": "code",
   "execution_count": 24,
   "metadata": {},
   "outputs": [],
   "source": [
    "import pandas as pd\n",
    "import numpy as np\n",
    "import matplotlib.pyplot as plt\n",
    "import seaborn as sns\n",
    "sns.set_style(\"whitegrid\")\n",
    "from sklearn.svm import SVC\n",
    "from sklearn.model_selection import train_test_split\n",
    "from sklearn.decomposition import PCA\n",
    "from sklearn.model_selection import train_test_split, GridSearchCV\n",
    "from sklearn.pipeline import Pipeline\n",
    "from sklearn.metrics import accuracy_score, confusion_matrix, classification_report\n",
    "from sklearn.tree import DecisionTreeClassifier\n",
    "from sklearn.ensemble import BaggingClassifier, RandomForestClassifier\n",
    "from sklearn.preprocessing import MaxAbsScaler, Normalizer, StandardScaler, RobustScaler\n",
    "\n",
    "\n",
    "%matplotlib inline"
   ]
  },
  {
   "cell_type": "code",
   "execution_count": 25,
   "metadata": {},
   "outputs": [],
   "source": [
    "df = pd.read_pickle('df_ready1')"
   ]
  },
  {
   "cell_type": "code",
   "execution_count": 26,
   "metadata": {},
   "outputs": [
    {
     "name": "stdout",
     "output_type": "stream",
     "text": [
      "<class 'pandas.core.frame.DataFrame'>\n",
      "Int64Index: 2421 entries, 3 to 3194\n",
      "Columns: 212 entries, State FIPS Code to % Rural denominator\n",
      "dtypes: float64(205), object(7)\n",
      "memory usage: 3.9+ MB\n"
     ]
    }
   ],
   "source": [
    "df.info()"
   ]
  },
  {
   "cell_type": "code",
   "execution_count": 27,
   "metadata": {},
   "outputs": [
    {
     "data": {
      "text/html": [
       "<div>\n",
       "<style scoped>\n",
       "    .dataframe tbody tr th:only-of-type {\n",
       "        vertical-align: middle;\n",
       "    }\n",
       "\n",
       "    .dataframe tbody tr th {\n",
       "        vertical-align: top;\n",
       "    }\n",
       "\n",
       "    .dataframe thead th {\n",
       "        text-align: right;\n",
       "    }\n",
       "</style>\n",
       "<table border=\"1\" class=\"dataframe\">\n",
       "  <thead>\n",
       "    <tr style=\"text-align: right;\">\n",
       "      <th></th>\n",
       "      <th>State FIPS Code</th>\n",
       "      <th>County FIPS Code</th>\n",
       "      <th>5-digit FIPS Code</th>\n",
       "      <th>State Abbreviation</th>\n",
       "      <th>Name</th>\n",
       "      <th>Release Year</th>\n",
       "      <th>County Ranked (Yes=1/No=0)</th>\n",
       "      <th>Premature death raw value</th>\n",
       "      <th>Premature death numerator</th>\n",
       "      <th>Premature death denominator</th>\n",
       "      <th>...</th>\n",
       "      <th>% Non-Hispanic white denominator</th>\n",
       "      <th>% not proficient in English raw value</th>\n",
       "      <th>% not proficient in English numerator</th>\n",
       "      <th>% not proficient in English denominator</th>\n",
       "      <th>% not proficient in English CI low</th>\n",
       "      <th>% not proficient in English CI high</th>\n",
       "      <th>% Females raw value</th>\n",
       "      <th>% Rural raw value</th>\n",
       "      <th>% Rural numerator</th>\n",
       "      <th>% Rural denominator</th>\n",
       "    </tr>\n",
       "  </thead>\n",
       "  <tbody>\n",
       "    <tr>\n",
       "      <th>3</th>\n",
       "      <td>01</td>\n",
       "      <td>001</td>\n",
       "      <td>01001</td>\n",
       "      <td>AL</td>\n",
       "      <td>Autauga County</td>\n",
       "      <td>2019</td>\n",
       "      <td>1</td>\n",
       "      <td>8824.057123</td>\n",
       "      <td>815.0</td>\n",
       "      <td>156132.0</td>\n",
       "      <td>...</td>\n",
       "      <td>55504.0</td>\n",
       "      <td>0.008285</td>\n",
       "      <td>430.0</td>\n",
       "      <td>51898.0</td>\n",
       "      <td>0.004225</td>\n",
       "      <td>0.012346</td>\n",
       "      <td>0.513422</td>\n",
       "      <td>0.420022</td>\n",
       "      <td>22921.0</td>\n",
       "      <td>54571.0</td>\n",
       "    </tr>\n",
       "    <tr>\n",
       "      <th>4</th>\n",
       "      <td>01</td>\n",
       "      <td>003</td>\n",
       "      <td>01003</td>\n",
       "      <td>AL</td>\n",
       "      <td>Baldwin County</td>\n",
       "      <td>2019</td>\n",
       "      <td>1</td>\n",
       "      <td>7224.632160</td>\n",
       "      <td>2827.0</td>\n",
       "      <td>576496.0</td>\n",
       "      <td>...</td>\n",
       "      <td>212628.0</td>\n",
       "      <td>0.004545</td>\n",
       "      <td>872.0</td>\n",
       "      <td>191854.0</td>\n",
       "      <td>0.002821</td>\n",
       "      <td>0.006269</td>\n",
       "      <td>0.514528</td>\n",
       "      <td>0.422791</td>\n",
       "      <td>77060.0</td>\n",
       "      <td>182265.0</td>\n",
       "    </tr>\n",
       "    <tr>\n",
       "      <th>5</th>\n",
       "      <td>01</td>\n",
       "      <td>005</td>\n",
       "      <td>01005</td>\n",
       "      <td>AL</td>\n",
       "      <td>Barbour County</td>\n",
       "      <td>2019</td>\n",
       "      <td>1</td>\n",
       "      <td>9586.165037</td>\n",
       "      <td>451.0</td>\n",
       "      <td>72222.0</td>\n",
       "      <td>...</td>\n",
       "      <td>25270.0</td>\n",
       "      <td>0.011993</td>\n",
       "      <td>297.0</td>\n",
       "      <td>24765.0</td>\n",
       "      <td>0.005805</td>\n",
       "      <td>0.018180</td>\n",
       "      <td>0.472299</td>\n",
       "      <td>0.677896</td>\n",
       "      <td>18613.0</td>\n",
       "      <td>27457.0</td>\n",
       "    </tr>\n",
       "    <tr>\n",
       "      <th>6</th>\n",
       "      <td>01</td>\n",
       "      <td>007</td>\n",
       "      <td>01007</td>\n",
       "      <td>AL</td>\n",
       "      <td>Bibb County</td>\n",
       "      <td>2019</td>\n",
       "      <td>1</td>\n",
       "      <td>11783.543675</td>\n",
       "      <td>445.0</td>\n",
       "      <td>63653.0</td>\n",
       "      <td>...</td>\n",
       "      <td>22668.0</td>\n",
       "      <td>0.003943</td>\n",
       "      <td>84.0</td>\n",
       "      <td>21301.0</td>\n",
       "      <td>0.000000</td>\n",
       "      <td>0.009334</td>\n",
       "      <td>0.464531</td>\n",
       "      <td>0.683526</td>\n",
       "      <td>15663.0</td>\n",
       "      <td>22915.0</td>\n",
       "    </tr>\n",
       "    <tr>\n",
       "      <th>7</th>\n",
       "      <td>01</td>\n",
       "      <td>009</td>\n",
       "      <td>01009</td>\n",
       "      <td>AL</td>\n",
       "      <td>Blount County</td>\n",
       "      <td>2019</td>\n",
       "      <td>1</td>\n",
       "      <td>10908.101822</td>\n",
       "      <td>1050.0</td>\n",
       "      <td>161107.0</td>\n",
       "      <td>...</td>\n",
       "      <td>58013.0</td>\n",
       "      <td>0.018700</td>\n",
       "      <td>1013.0</td>\n",
       "      <td>54171.0</td>\n",
       "      <td>0.013642</td>\n",
       "      <td>0.023758</td>\n",
       "      <td>0.506886</td>\n",
       "      <td>0.899515</td>\n",
       "      <td>51562.0</td>\n",
       "      <td>57322.0</td>\n",
       "    </tr>\n",
       "  </tbody>\n",
       "</table>\n",
       "<p>5 rows × 212 columns</p>\n",
       "</div>"
      ],
      "text/plain": [
       "  State FIPS Code County FIPS Code 5-digit FIPS Code State Abbreviation  \\\n",
       "3              01              001             01001                 AL   \n",
       "4              01              003             01003                 AL   \n",
       "5              01              005             01005                 AL   \n",
       "6              01              007             01007                 AL   \n",
       "7              01              009             01009                 AL   \n",
       "\n",
       "             Name Release Year County Ranked (Yes=1/No=0)  \\\n",
       "3  Autauga County         2019                          1   \n",
       "4  Baldwin County         2019                          1   \n",
       "5  Barbour County         2019                          1   \n",
       "6     Bibb County         2019                          1   \n",
       "7   Blount County         2019                          1   \n",
       "\n",
       "   Premature death raw value  Premature death numerator  \\\n",
       "3                8824.057123                      815.0   \n",
       "4                7224.632160                     2827.0   \n",
       "5                9586.165037                      451.0   \n",
       "6               11783.543675                      445.0   \n",
       "7               10908.101822                     1050.0   \n",
       "\n",
       "   Premature death denominator  ...  % Non-Hispanic white denominator  \\\n",
       "3                     156132.0  ...                           55504.0   \n",
       "4                     576496.0  ...                          212628.0   \n",
       "5                      72222.0  ...                           25270.0   \n",
       "6                      63653.0  ...                           22668.0   \n",
       "7                     161107.0  ...                           58013.0   \n",
       "\n",
       "   % not proficient in English raw value  \\\n",
       "3                               0.008285   \n",
       "4                               0.004545   \n",
       "5                               0.011993   \n",
       "6                               0.003943   \n",
       "7                               0.018700   \n",
       "\n",
       "   % not proficient in English numerator  \\\n",
       "3                                  430.0   \n",
       "4                                  872.0   \n",
       "5                                  297.0   \n",
       "6                                   84.0   \n",
       "7                                 1013.0   \n",
       "\n",
       "   % not proficient in English denominator  \\\n",
       "3                                  51898.0   \n",
       "4                                 191854.0   \n",
       "5                                  24765.0   \n",
       "6                                  21301.0   \n",
       "7                                  54171.0   \n",
       "\n",
       "   % not proficient in English CI low  % not proficient in English CI high  \\\n",
       "3                            0.004225                             0.012346   \n",
       "4                            0.002821                             0.006269   \n",
       "5                            0.005805                             0.018180   \n",
       "6                            0.000000                             0.009334   \n",
       "7                            0.013642                             0.023758   \n",
       "\n",
       "   % Females raw value  % Rural raw value  % Rural numerator  \\\n",
       "3             0.513422           0.420022            22921.0   \n",
       "4             0.514528           0.422791            77060.0   \n",
       "5             0.472299           0.677896            18613.0   \n",
       "6             0.464531           0.683526            15663.0   \n",
       "7             0.506886           0.899515            51562.0   \n",
       "\n",
       "   % Rural denominator  \n",
       "3              54571.0  \n",
       "4             182265.0  \n",
       "5              27457.0  \n",
       "6              22915.0  \n",
       "7              57322.0  \n",
       "\n",
       "[5 rows x 212 columns]"
      ]
     },
     "execution_count": 27,
     "metadata": {},
     "output_type": "execute_result"
    }
   ],
   "source": [
    "df.head()"
   ]
  },
  {
   "cell_type": "code",
   "execution_count": 28,
   "metadata": {},
   "outputs": [
    {
     "name": "stdout",
     "output_type": "stream",
     "text": [
      "<class 'pandas.core.frame.DataFrame'>\n",
      "Int64Index: 2421 entries, 3 to 3194\n",
      "Columns: 212 entries, State FIPS Code to % Rural denominator\n",
      "dtypes: float64(205), object(7)\n",
      "memory usage: 3.9+ MB\n"
     ]
    }
   ],
   "source": [
    "df.info()"
   ]
  },
  {
   "cell_type": "code",
   "execution_count": null,
   "metadata": {},
   "outputs": [],
   "source": []
  },
  {
   "cell_type": "code",
   "execution_count": 30,
   "metadata": {},
   "outputs": [],
   "source": [
    "df['target'] = 0"
   ]
  },
  {
   "cell_type": "code",
   "execution_count": 31,
   "metadata": {},
   "outputs": [
    {
     "data": {
      "text/plain": [
       "0    324\n",
       "Name: target, dtype: int64"
      ]
     },
     "execution_count": 31,
     "metadata": {},
     "output_type": "execute_result"
    }
   ],
   "source": [
    "df[df['High school graduation raw value'] > 0.95]['target'].value_counts()"
   ]
  },
  {
   "cell_type": "code",
   "execution_count": 32,
   "metadata": {},
   "outputs": [
    {
     "data": {
      "text/plain": [
       "0    1452\n",
       "Name: target, dtype: int64"
      ]
     },
     "execution_count": 32,
     "metadata": {},
     "output_type": "execute_result"
    }
   ],
   "source": [
    "df[(df['High school graduation raw value'] > 0.85) & \n",
    "   (df['High school graduation raw value'] <= 0.95)]['target'].value_counts()"
   ]
  },
  {
   "cell_type": "code",
   "execution_count": 33,
   "metadata": {},
   "outputs": [
    {
     "data": {
      "text/plain": [
       "0    643\n",
       "Name: target, dtype: int64"
      ]
     },
     "execution_count": 33,
     "metadata": {},
     "output_type": "execute_result"
    }
   ],
   "source": [
    "df[(df['High school graduation raw value'] > 0.40) & \n",
    "   (df['High school graduation raw value'] <= 0.85)]['target'].value_counts()"
   ]
  },
  {
   "cell_type": "code",
   "execution_count": 34,
   "metadata": {},
   "outputs": [
    {
     "data": {
      "text/plain": [
       "0    2\n",
       "Name: target, dtype: int64"
      ]
     },
     "execution_count": 34,
     "metadata": {},
     "output_type": "execute_result"
    }
   ],
   "source": [
    "df[df['High school graduation raw value'] <= 0.4]['target'].value_counts()"
   ]
  },
  {
   "cell_type": "code",
   "execution_count": 35,
   "metadata": {},
   "outputs": [
    {
     "data": {
      "text/plain": [
       "(array([  3.,   1.,   5.,   6.,  17.,  76., 184., 638., 970., 521.]),\n",
       " array([0.3630137 , 0.42671233, 0.49041096, 0.55410959, 0.61780822,\n",
       "        0.68150685, 0.74520548, 0.80890411, 0.87260274, 0.93630137,\n",
       "        1.        ]),\n",
       " <a list of 10 Patch objects>)"
      ]
     },
     "execution_count": 35,
     "metadata": {},
     "output_type": "execute_result"
    },
    {
     "data": {
      "image/png": "[encoded data removed]",
      "text/plain": [
       "<Figure size 432x288 with 1 Axes>"
      ]
     },
     "metadata": {
      "needs_background": "light"
     },
     "output_type": "display_data"
    }
   ],
   "source": [
    "# Looking at the target variable distribution\n",
    "plt.hist(df['High school graduation raw value'])"
   ]
  },
  {
   "cell_type": "code",
   "execution_count": 36,
   "metadata": {},
   "outputs": [],
   "source": [
    "# Setting mock federal standard for a highschool grad rate of at least 90%\n",
    "df.loc[df['High school graduation raw value'] >= 0.9, 'target'] = 1\n",
    "\n",
    "df.loc[df['High school graduation raw value'] <0.9, 'target'] = 0\n",
    "\n"
   ]
  },
  {
   "cell_type": "code",
   "execution_count": 37,
   "metadata": {},
   "outputs": [
    {
     "data": {
      "text/plain": [
       "0    1316\n",
       "1    1105\n",
       "Name: target, dtype: int64"
      ]
     },
     "execution_count": 37,
     "metadata": {},
     "output_type": "execute_result"
    }
   ],
   "source": [
    "df['target'].value_counts().sort_index()"
   ]
  },
  {
   "cell_type": "code",
   "execution_count": 38,
   "metadata": {},
   "outputs": [],
   "source": [
    "X = df.iloc[:, 6:]"
   ]
  },
  {
   "cell_type": "code",
   "execution_count": 39,
   "metadata": {},
   "outputs": [],
   "source": [
    "X.drop(columns=['High school graduation raw value', 'target'], inplace=True)\n",
    "y = df['target']"
   ]
  },
  {
   "cell_type": "code",
   "execution_count": 40,
   "metadata": {},
   "outputs": [],
   "source": [
    "X_train, X_test, y_train, y_test = train_test_split(X, y, random_state=10)"
   ]
  },
  {
   "cell_type": "code",
   "execution_count": 41,
   "metadata": {},
   "outputs": [],
   "source": [
    "standard = StandardScaler()\n",
    "X_train_scaled = standard.fit_transform(X_train)\n",
    "X_test_scaled = standard.fit_transform(X_test)"
   ]
  },
  {
   "cell_type": "code",
   "execution_count": 47,
   "metadata": {},
   "outputs": [
    {
     "data": {
      "text/plain": [
       "(1815, 2)"
      ]
     },
     "execution_count": 47,
     "metadata": {},
     "output_type": "execute_result"
    }
   ],
   "source": [
    "pca = PCA(n_components=2)\n",
    "X_pca_train = pca.fit_transform(X_train)\n",
    "X_pca_train.shape"
   ]
  },
  {
   "cell_type": "code",
   "execution_count": 51,
   "metadata": {},
   "outputs": [
    {
     "data": {
      "text/html": [
       "<div>\n",
       "<style scoped>\n",
       "    .dataframe tbody tr th:only-of-type {\n",
       "        vertical-align: middle;\n",
       "    }\n",
       "\n",
       "    .dataframe tbody tr th {\n",
       "        vertical-align: top;\n",
       "    }\n",
       "\n",
       "    .dataframe thead th {\n",
       "        text-align: right;\n",
       "    }\n",
       "</style>\n",
       "<table border=\"1\" class=\"dataframe\">\n",
       "  <thead>\n",
       "    <tr style=\"text-align: right;\">\n",
       "      <th></th>\n",
       "      <th>principal component 1</th>\n",
       "      <th>principal component 2</th>\n",
       "    </tr>\n",
       "  </thead>\n",
       "  <tbody>\n",
       "    <tr>\n",
       "      <th>0</th>\n",
       "      <td>-575476.072491</td>\n",
       "      <td>26027.579447</td>\n",
       "    </tr>\n",
       "    <tr>\n",
       "      <th>1</th>\n",
       "      <td>-298282.621409</td>\n",
       "      <td>-8757.684489</td>\n",
       "    </tr>\n",
       "    <tr>\n",
       "      <th>2</th>\n",
       "      <td>-458015.999679</td>\n",
       "      <td>30109.231550</td>\n",
       "    </tr>\n",
       "    <tr>\n",
       "      <th>3</th>\n",
       "      <td>72571.364280</td>\n",
       "      <td>-15847.294970</td>\n",
       "    </tr>\n",
       "    <tr>\n",
       "      <th>4</th>\n",
       "      <td>-579976.229740</td>\n",
       "      <td>19976.207928</td>\n",
       "    </tr>\n",
       "  </tbody>\n",
       "</table>\n",
       "</div>"
      ],
      "text/plain": [
       "   principal component 1  principal component 2\n",
       "0         -575476.072491           26027.579447\n",
       "1         -298282.621409           -8757.684489\n",
       "2         -458015.999679           30109.231550\n",
       "3           72571.364280          -15847.294970\n",
       "4         -579976.229740           19976.207928"
      ]
     },
     "execution_count": 51,
     "metadata": {},
     "output_type": "execute_result"
    }
   ],
   "source": [
    "principalDf = pd.DataFrame(data = X_pca_train\n",
    "             , columns = ['principal component 1', 'principal component 2'])\n",
    "principalDf.head()"
   ]
  },
  {
   "cell_type": "code",
   "execution_count": 58,
   "metadata": {},
   "outputs": [
    {
     "data": {
      "text/plain": [
       "0.0    1316\n",
       "1.0    1105\n",
       "Name: target, dtype: int64"
      ]
     },
     "execution_count": 58,
     "metadata": {},
     "output_type": "execute_result"
    }
   ],
   "source": [
    "finalDf = pd.concat([principalDf, y], axis = 1)\n",
    "finalDf['target'].value_counts()"
   ]
  },
  {
   "cell_type": "code",
   "execution_count": 62,
   "metadata": {},
   "outputs": [
    {
     "ename": "AttributeError",
     "evalue": "'DataFrame' object has no attribute 'scatter'",
     "output_type": "error",
     "traceback": [
      "\u001b[0;31m---------------------------------------------------------------------------\u001b[0m",
      "\u001b[0;31mAttributeError\u001b[0m                            Traceback (most recent call last)",
      "\u001b[0;32m<ipython-input-62-8966d2fb82cd>\u001b[0m in \u001b[0;36m<module>\u001b[0;34m\u001b[0m\n\u001b[0;32m----> 1\u001b[0;31m \u001b[0mfinalDf\u001b[0m\u001b[0;34m.\u001b[0m\u001b[0mscatter\u001b[0m\u001b[0;34m(\u001b[0m\u001b[0mx\u001b[0m\u001b[0;34m=\u001b[0m\u001b[0;34m'principal component 1'\u001b[0m\u001b[0;34m,\u001b[0m \u001b[0my\u001b[0m\u001b[0;34m=\u001b[0m\u001b[0;34m'principal component 2'\u001b[0m\u001b[0;34m,\u001b[0m \u001b[0mcolor\u001b[0m \u001b[0;34m=\u001b[0m \u001b[0;34m'target'\u001b[0m\u001b[0;34m)\u001b[0m\u001b[0;34m\u001b[0m\u001b[0;34m\u001b[0m\u001b[0m\n\u001b[0m",
      "\u001b[0;32m/usr/local/lib/python3.7/site-packages/pandas/core/generic.py\u001b[0m in \u001b[0;36m__getattr__\u001b[0;34m(self, name)\u001b[0m\n\u001b[1;32m   5178\u001b[0m             \u001b[0;32mif\u001b[0m \u001b[0mself\u001b[0m\u001b[0;34m.\u001b[0m\u001b[0m_info_axis\u001b[0m\u001b[0;34m.\u001b[0m\u001b[0m_can_hold_identifiers_and_holds_name\u001b[0m\u001b[0;34m(\u001b[0m\u001b[0mname\u001b[0m\u001b[0;34m)\u001b[0m\u001b[0;34m:\u001b[0m\u001b[0;34m\u001b[0m\u001b[0;34m\u001b[0m\u001b[0m\n\u001b[1;32m   5179\u001b[0m                 \u001b[0;32mreturn\u001b[0m \u001b[0mself\u001b[0m\u001b[0;34m[\u001b[0m\u001b[0mname\u001b[0m\u001b[0;34m]\u001b[0m\u001b[0;34m\u001b[0m\u001b[0;34m\u001b[0m\u001b[0m\n\u001b[0;32m-> 5180\u001b[0;31m             \u001b[0;32mreturn\u001b[0m \u001b[0mobject\u001b[0m\u001b[0;34m.\u001b[0m\u001b[0m__getattribute__\u001b[0m\u001b[0;34m(\u001b[0m\u001b[0mself\u001b[0m\u001b[0;34m,\u001b[0m \u001b[0mname\u001b[0m\u001b[0;34m)\u001b[0m\u001b[0;34m\u001b[0m\u001b[0;34m\u001b[0m\u001b[0m\n\u001b[0m\u001b[1;32m   5181\u001b[0m \u001b[0;34m\u001b[0m\u001b[0m\n\u001b[1;32m   5182\u001b[0m     \u001b[0;32mdef\u001b[0m \u001b[0m__setattr__\u001b[0m\u001b[0;34m(\u001b[0m\u001b[0mself\u001b[0m\u001b[0;34m,\u001b[0m \u001b[0mname\u001b[0m\u001b[0;34m,\u001b[0m \u001b[0mvalue\u001b[0m\u001b[0;34m)\u001b[0m\u001b[0;34m:\u001b[0m\u001b[0;34m\u001b[0m\u001b[0;34m\u001b[0m\u001b[0m\n",
      "\u001b[0;31mAttributeError\u001b[0m: 'DataFrame' object has no attribute 'scatter'"
     ]
    }
   ],
   "source": [
    "finalDf.scatter(x='principal component 1', y='principal component 2', color='target')"
   ]
  },
  {
   "cell_type": "code",
   "execution_count": 60,
   "metadata": {},
   "outputs": [
    {
     "data": {
      "image/png": "[encoded data removed]",
      "text/plain": [
       "<Figure size 1080x720 with 1 Axes>"
      ]
     },
     "metadata": {
      "needs_background": "light"
     },
     "output_type": "display_data"
    }
   ],
   "source": [
    "fig = plt.figure(figsize = (15,10))\n",
    "ax = fig.add_subplot(1,1,1) \n",
    "ax.set_xlabel('Principal Component 1', fontsize = 15)\n",
    "ax.set_ylabel('Principal Component 2', fontsize = 15)\n",
    "ax.set_title('2 component PCA', fontsize = 20)\n",
    "targets = [1.0, 0.0]\n",
    "colors = ['lightblue', 'orange']\n",
    "for target, color in zip(targets,colors):\n",
    "    indicesToKeep = finalDf['target'] == target\n",
    "    ax.scatter(finalDf.loc[indicesToKeep, 'principal component 1']\n",
    "               , finalDf.loc[indicesToKeep, 'principal component 2']\n",
    "               , c = color\n",
    "               , s = 50)\n",
    "ax.legend(targets)\n",
    "ax.grid()"
   ]
  },
  {
   "cell_type": "code",
   "execution_count": 48,
   "metadata": {},
   "outputs": [
    {
     "data": {
      "text/plain": [
       "(array([0.9965 , 0.99675, 0.997  , 0.99725, 0.9975 , 0.99775, 0.998  ,\n",
       "        0.99825, 0.9985 ]), <a list of 9 Text yticklabel objects>)"
      ]
     },
     "execution_count": 48,
     "metadata": {},
     "output_type": "execute_result"
    },
    {
     "data": {
      "image/png": "[encoded data removed]",
      "text/plain": [
       "<Figure size 1080x720 with 1 Axes>"
      ]
     },
     "metadata": {
      "needs_background": "light"
     },
     "output_type": "display_data"
    }
   ],
   "source": [
    "plt.figure(figsize=(15,10))\n",
    "plt.plot(range(1,3), pca.explained_variance_ratio_.cumsum())\n",
    "plt.title('Total Variance Explained by Varying Number of Principle Components', fontsize=20);\n",
    "plt.xlabel('Number of Principle Components', fontsize=20)\n",
    "plt.ylabel('Variance of Dataset', fontsize=20)\n",
    "plt.xticks(fontsize=20)\n",
    "plt.yticks(fontsize=20)"
   ]
  },
  {
   "cell_type": "markdown",
   "metadata": {},
   "source": [
    "### COME BACK TO PCA LATER\n",
    "\n",
    "# Random Forest\n",
    "\n"
   ]
  },
  {
   "cell_type": "code",
   "execution_count": 21,
   "metadata": {},
   "outputs": [
    {
     "name": "stderr",
     "output_type": "stream",
     "text": [
      "/usr/local/lib/python3.7/site-packages/sklearn/ensemble/forest.py:245: FutureWarning: The default value of n_estimators will change from 10 in version 0.20 to 100 in 0.22.\n",
      "  \"10 in version 0.20 to 100 in 0.22.\", FutureWarning)\n"
     ]
    }
   ],
   "source": [
    "clf = RandomForestClassifier()\n",
    "clf.fit(X_train, y_train)\n",
    "y_pred = clf.predict(X_test)"
   ]
  },
  {
   "cell_type": "code",
   "execution_count": 22,
   "metadata": {},
   "outputs": [
    {
     "data": {
      "text/plain": [
       "0.7178217821782178"
      ]
     },
     "execution_count": 22,
     "metadata": {},
     "output_type": "execute_result"
    }
   ],
   "source": [
    "accuracy_score(y_test, y_pred)"
   ]
  },
  {
   "cell_type": "code",
   "execution_count": null,
   "metadata": {},
   "outputs": [],
   "source": [
    "from sklearn.decomposition import PCA\n",
    "pca = PCA(n_components=2)\n",
    "principalComponents = pca.fit_transform(x)\n",
    "principalDf = pd.DataFrame(data = principalComponents\n",
    "             , columns = ['principal component 1', 'principal component 2'])"
   ]
  }
 ],
 "metadata": {
  "kernelspec": {
   "display_name": "Python 3",
   "language": "python",
   "name": "python3"
  },
  "language_info": {
   "codemirror_mode": {
    "name": "ipython",
    "version": 3
   },
   "file_extension": ".py",
   "mimetype": "text/x-python",
   "name": "python",
   "nbconvert_exporter": "python",
   "pygments_lexer": "ipython3",
   "version": "3.7.4"
  }
 },
 "nbformat": 4,
 "nbformat_minor": 2
}
